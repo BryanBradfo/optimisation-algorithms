{
 "cells": [
  {
   "cell_type": "markdown",
   "metadata": {},
   "source": [
    "# Lab : Gradient descent\n",
    "\n",
    "**Objective**: Implement the gradient descent algorithm to find the minimum of a\n",
    "function for least squares regression and logistic regression."
   ]
  },
  {
   "cell_type": "code",
   "execution_count": 1,
   "metadata": {},
   "outputs": [],
   "source": [
    "# import libraries\n",
    "import numpy as np\n",
    "import matplotlib.pyplot as plt"
   ]
  },
  {
   "cell_type": "markdown",
   "metadata": {},
   "source": [
    "### Datasets\n",
    "\n",
    "We generate below two simple datasets for regression and classification."
   ]
  },
  {
   "cell_type": "code",
   "execution_count": 2,
   "metadata": {},
   "outputs": [],
   "source": [
    "\n",
    "np.random.seed(0) # fix dataset for everyone\n",
    "\n",
    "# constants\n",
    "n =100\n",
    "d = 10\n",
    "\n",
    "# data for Least Square and Ridge regression\n",
    "noise_ls = 0.1\n",
    "X_ls = np.random.randn(n,d)\n",
    "w_ls_true = np.random.randn(d)\n",
    "y_ls = X_ls.dot(w_ls_true) + noise_ls*np.random.randn(n)\n",
    "\n",
    "# data for logistic regression\n",
    "X_lr = np.random.randn(n,d)\n",
    "w_lr_true = np.random.randn(d)\n",
    "y_lr = np.random.rand(n) < 1/(1+np.exp(-X_lr.dot(w_lr_true)))"
   ]
  },
  {
   "cell_type": "markdown",
   "metadata": {},
   "source": [
    "## Implementing loss functions and their gradients"
   ]
  },
  {
   "cell_type": "code",
   "execution_count": null,
   "metadata": {},
   "outputs": [],
   "source": [
    "\n",
    "def ls_cost(w, X, y):\n",
    "    # least squares cost\n",
    "    m = X.shape[0]  # nombre d'échantillons\n",
    "    return (1 / m) * np.linalg.norm(X.dot(w) - y)**2\n",
    "\n",
    "def ls_grad(w, X, y):\n",
    "    # least squares gradient\n",
    "    m = X.shape[0]\n",
    "    return (1 / m) * X.T.dot(X.dot(w) - y)\n",
    "\n",
    "\n",
    "def ridge_cost(w, X, y, alpha):\n",
    "    # ridge cost\n",
    "    m = X.shape[0]  # nombre d'échantillons\n",
    "    return (1 / m ) * (np.linalg.norm(X.dot(w) - y)**2 + alpha * np.linalg.norm(w)**2)\n",
    "\n",
    "def ridge_grad(w, X, y, alpha):\n",
    "    # ridge gradient\n",
    "    m = X.shape[0]\n",
    "    return (1 / m) * X.T.dot(X.dot(w) - y) + (alpha / m) * w\n",
    "\n",
    "def sigmoid(z):\n",
    "    return 1 / (1 + np.exp(-z))\n",
    "\n",
    "# Logistic cost function (binary cross-entropy loss)\n",
    "def logistic_cost(w, X, y):\n",
    "    \"\"\"\n",
    "    Compute the cost (binary cross-entropy loss) for logistic regression.\n",
    "    \n",
    "    Parameters:\n",
    "    w -- weight vector (numpy array of shape (n_features,))\n",
    "    X -- input feature matrix (numpy array of shape (n_samples, n_features))\n",
    "    y -- true labels (numpy array of shape (n_samples,)) -- expected values are 0 or 1\n",
    "\n",
    "    Returns:\n",
    "    cost -- the cost (scalar)\n",
    "    \"\"\"\n",
    "    m = X.shape[0]  # number of samples\n",
    "    h = sigmoid(np.dot(X, w))  # predictions using the logistic model\n",
    "    cost = (-1/m) * (np.dot(y, np.log(h)) + np.dot((1 - y), np.log(1 - h)))\n",
    "    return cost\n",
    "\n",
    "# Gradient of the logistic cost function\n",
    "def logistic_grad(w, X, y):\n",
    "    \"\"\"\n",
    "    Compute the gradient of the logistic cost function with respect to weights w.\n",
    "    \n",
    "    Parameters:\n",
    "    w -- weight vector (numpy array of shape (n_features,))\n",
    "    X -- input feature matrix (numpy array of shape (n_samples, n_features))\n",
    "    y -- true labels (numpy array of shape (n_samples,)) -- expected values are 0 or 1\n",
    "    \n",
    "    Returns:\n",
    "    grad -- gradient vector (numpy array of shape (n_features,))\n",
    "    \"\"\"\n",
    "    m = X.shape[0]  # number of samples\n",
    "    h = sigmoid(np.dot(X, w))  # predictions using the logistic model\n",
    "    grad = (1/m) * np.dot(X.T, (h - y))\n",
    "    return grad\n",
    "\n",
    "w_zeros = np.zeros(d)\n",
    "\n",
    "print(\"Least Square loss at zeros: \", ls_cost(w_zeros, X_ls, y_ls))\n",
    "print(\"Ridge loss at zeros: \", ridge_cost(w_zeros, X_ls, y_ls, 0.1))\n",
    "print(\"Logistic loss at zeros: \", logistic_cost(w_zeros, X_lr, y_lr))"
   ]
  },
  {
   "cell_type": "markdown",
   "metadata": {},
   "source": [
    "## Implementing gradient descent algorithm"
   ]
  },
  {
   "cell_type": "code",
   "execution_count": null,
   "metadata": {},
   "outputs": [],
   "source": [
    "\n",
    "# Gradient Descent\n",
    "def gradient_descent(w0, rho, cost_fun, grad_fun, niter):\n",
    "\n",
    "    w = w0.copy()\n",
    "    cost_history = np.zeros(niter)\n",
    "\n",
    "    for i in range(niter):\n",
    "        # Compute the cost and gradient\n",
    "        cost_history[i] = cost_fun(w)\n",
    "        grad = grad_fun(w)\n",
    "        \n",
    "        # Update weights using gradient descent rule\n",
    "        w = w - rho * grad\n",
    "\n",
    "    w_opt = w\n",
    "    return w_opt, cost_history\n",
    "\n",
    "# Least Square\n",
    "rho_ls = 0.01\n",
    "niter= 1000 # TODO\n",
    "f = lambda w: ls_cost(w, X_ls, y_ls)\n",
    "df = lambda w: ls_grad(w, X_ls, y_ls)\n",
    "w_ls, cost_history = gradient_descent(w_zeros, rho_ls, f,df , niter)\n",
    "\n",
    "# plot loss\n",
    "plt.figure()\n",
    "plt.plot(cost_history)\n",
    "plt.title(\"Least Square loss\")\n",
    "plt.xlabel(\"iteration\")"
   ]
  },
  {
   "cell_type": "markdown",
   "metadata": {},
   "source": [
    " ## TODO\n",
    "\n",
    "- Implement the gradient descent algorithm for least squares and Ridge regression\n",
    "- Implement the gradient descent algorithm for logistic regression\n",
    "- Plot convergence of the loss function\n",
    "- Compute performance metrics for regression and classification (compare it to\n",
    "  null predictions)\n",
    "- Implement accelerated gradient descent \n"
   ]
  },
  {
   "cell_type": "markdown",
   "metadata": {},
   "source": [
    "## Least squares regression"
   ]
  },
  {
   "cell_type": "code",
   "execution_count": null,
   "metadata": {},
   "outputs": [],
   "source": [
    "# Gradient Descent\n",
    "def gradient_descent(w0, rho, cost_fun, grad_fun, niter):\n",
    "\n",
    "    w = w0.copy()\n",
    "    cost_history = np.zeros(niter)\n",
    "\n",
    "    for i in range(niter):\n",
    "        # Compute the cost and gradient\n",
    "        cost_history[i] = cost_fun(w)\n",
    "        grad = grad_fun(w)\n",
    "        \n",
    "        # Update weights using gradient descent rule\n",
    "        w = w - rho * grad\n",
    "\n",
    "    w_opt = w\n",
    "    return w_opt, cost_history\n",
    "\n",
    "# Least Square\n",
    "rho_ls = 0.01\n",
    "niter= 1000 # TODO\n",
    "f_ls = lambda w: ls_cost(w, X_ls, y_ls)\n",
    "df_ls = lambda w: ls_grad(w, X_ls, y_ls)\n",
    "w_ls, cost_history_ls = gradient_descent(w_zeros, rho_ls, f_ls,df_ls , niter)\n",
    "\n",
    "# plot loss\n",
    "plt.figure()\n",
    "plt.plot(cost_history)\n",
    "plt.title(\"Least Square loss\")\n",
    "plt.xlabel(\"iteration\")"
   ]
  },
  {
   "cell_type": "markdown",
   "metadata": {},
   "source": [
    "## Ridge regression"
   ]
  },
  {
   "cell_type": "code",
   "execution_count": null,
   "metadata": {},
   "outputs": [],
   "source": [
    "# Gradient Descent\n",
    "def gradient_descent(w0, rho, cost_fun, grad_fun, niter):\n",
    "\n",
    "    w = w0.copy()\n",
    "    cost_history = np.zeros(niter)\n",
    "\n",
    "    for i in range(niter):\n",
    "        # Compute the cost and gradient\n",
    "        cost_history[i] = cost_fun(w)\n",
    "        grad = grad_fun(w)\n",
    "        \n",
    "        # Update weights using gradient descent rule\n",
    "        w = w - rho * grad\n",
    "\n",
    "    w_opt = w\n",
    "    return w_opt, cost_history\n",
    "\n",
    "# Least Square\n",
    "rho_ls = 0.01\n",
    "niter= 1000 # TODO\n",
    "alpha = 0.1\n",
    "f_ridge = lambda w: ridge_cost(w, X_ls, y_ls, alpha)\n",
    "df_ridge = lambda w: ridge_grad(w, X_ls, y_ls, alpha)\n",
    "w_ridge, cost_history_ridge = gradient_descent(w_zeros, rho_ls, f_ridge,df_ridge , niter)\n",
    "\n",
    "# plot loss\n",
    "plt.figure()\n",
    "plt.plot(cost_history)\n",
    "plt.title(\"Ridge loss\")\n",
    "plt.xlabel(\"iteration\")"
   ]
  },
  {
   "cell_type": "markdown",
   "metadata": {},
   "source": [
    "## Logistic regression"
   ]
  },
  {
   "cell_type": "code",
   "execution_count": null,
   "metadata": {},
   "outputs": [],
   "source": [
    "# Gradient Descent\n",
    "def gradient_descent(w0, rho, cost_fun, grad_fun, niter):\n",
    "\n",
    "    w = w0.copy()\n",
    "    cost_history = np.zeros(niter)\n",
    "\n",
    "    for i in range(niter):\n",
    "        # Compute the cost and gradient\n",
    "        cost_history[i] = cost_fun(w)\n",
    "        grad = grad_fun(w)\n",
    "        \n",
    "        # Update weights using gradient descent rule\n",
    "        w = w - rho * grad\n",
    "\n",
    "    w_opt = w\n",
    "    return w_opt, cost_history\n",
    "\n",
    "# Least Square\n",
    "rho_ls = 0.01\n",
    "niter= 1000 # TODO\n",
    "f_logistic = lambda w: logistic_cost(w, X_lr, y_lr)\n",
    "df_logistic = lambda w: logistic_grad(w, X_lr, y_lr)\n",
    "w_logistic, cost_history_logistic = gradient_descent(w_zeros, rho_ls, f_logistic,df_logistic , niter)\n",
    "\n",
    "# plot loss\n",
    "plt.figure()\n",
    "plt.plot(cost_history)\n",
    "plt.title(\"Logistic loss\")\n",
    "plt.xlabel(\"iteration\")"
   ]
  },
  {
   "cell_type": "markdown",
   "metadata": {},
   "source": [
    "## Compute performance for regression and classification"
   ]
  },
  {
   "cell_type": "code",
   "execution_count": null,
   "metadata": {},
   "outputs": [],
   "source": [
    "# Compute performance metrics for regression and classification\n",
    "\n",
    "def regression_metrics(w, X, y):\n",
    "    y_pred = X.dot(w)\n",
    "    mse = np.mean((y - y_pred)**2)\n",
    "    return mse\n",
    "\n",
    "def classification_metrics(w, X, y):\n",
    "    y_pred = np.round(sigmoid(X.dot(w)))\n",
    "    accuracy = np.mean(y_pred == y)\n",
    "    return accuracy\n",
    "\n",
    "print(\"Least Square regression metrics: \", regression_metrics(w_ls, X_ls, y_ls))\n",
    "print(\"Logistic regression metrics: \", classification_metrics(w_logistic, X_lr, y_lr))\n",
    "print(\"Ridge regression metrics: \", regression_metrics(w_ridge, X_ls, y_ls))"
   ]
  },
  {
   "cell_type": "markdown",
   "metadata": {},
   "source": [
    "## Accelerated gradient descent"
   ]
  },
  {
   "cell_type": "code",
   "execution_count": 9,
   "metadata": {},
   "outputs": [],
   "source": [
    "def accelerated_gradient_descent(w0, rho, cost_fun, grad_fun, niter, gamma=0.9):\n",
    "    \"\"\"\n",
    "    Accelerated Gradient Descent (Nesterov Accelerated Gradient)\n",
    "    \n",
    "    Parameters:\n",
    "    w0 -- Initial weight vector\n",
    "    rho -- Learning rate\n",
    "    cost_fun -- Cost function\n",
    "    grad_fun -- Gradient function\n",
    "    niter -- Number of iterations\n",
    "    gamma -- Momentum parameter (default: 0.9)\n",
    "    \n",
    "    Returns:\n",
    "    w_opt -- Optimized weight vector\n",
    "    cost_history -- Cost values over iterations\n",
    "    \"\"\"\n",
    "    w = w0.copy()\n",
    "    v = np.zeros_like(w)  # Initialize velocity\n",
    "    cost_history = np.zeros(niter)\n",
    "\n",
    "    for i in range(niter):\n",
    "        cost_history[i] = cost_fun(w)\n",
    "        \n",
    "        # Nesterov lookahead step\n",
    "        w_lookahead = w - gamma * v\n",
    "        grad = grad_fun(w_lookahead)\n",
    "        \n",
    "        # Update velocity and weights\n",
    "        v = gamma * v + rho * grad\n",
    "        w = w - v  # Apply the update to weights\n",
    "\n",
    "    w_opt = w\n",
    "    return w_opt, cost_history\n"
   ]
  },
  {
   "cell_type": "code",
   "execution_count": null,
   "metadata": {},
   "outputs": [],
   "source": [
    "w_ls_agd_ls, cost_history_agd_ls = accelerated_gradient_descent(w_zeros, rho_ls, f_ls, df_ls, niter)\n",
    "plt.figure()\n",
    "plt.plot(cost_history_ls, label=\"Gradient Descent\")        # Standard Gradient Descent\n",
    "plt.plot(cost_history_agd_ls, label=\"Accelerated GD\")      # Accelerated Gradient Descent\n",
    "plt.legend()\n",
    "plt.title(\"Accelerated Least Square loss\")\n",
    "plt.xlabel(\"Iteration\")\n",
    "plt.ylabel(\"Cost\")\n",
    "plt.show()"
   ]
  },
  {
   "cell_type": "code",
   "execution_count": null,
   "metadata": {},
   "outputs": [],
   "source": [
    "w_ls_agd_ridge, cost_history_agd_ridge = accelerated_gradient_descent(w_zeros, rho_ls, f_ridge, df_ridge, niter)\n",
    "plt.figure()\n",
    "plt.plot(cost_history_ridge, label=\"Gradient Descent\")        # Standard Gradient Descent\n",
    "plt.plot(cost_history_agd_ridge, label=\"Accelerated GD\")      # Accelerated Gradient Descent\n",
    "plt.legend()\n",
    "plt.title(\"Accelerated Ridge loss\")\n",
    "plt.xlabel(\"Iteration\")\n",
    "plt.ylabel(\"Cost\")\n",
    "plt.show()"
   ]
  },
  {
   "cell_type": "code",
   "execution_count": null,
   "metadata": {},
   "outputs": [],
   "source": [
    "w_ls_agd_logistic, cost_history_agd_logistic = accelerated_gradient_descent(w_zeros, rho_ls, f_logistic, df_logistic, niter)\n",
    "plt.figure()\n",
    "plt.plot(cost_history_logistic, label=\"Gradient Descent\")        # Standard Gradient Descent\n",
    "plt.plot(cost_history_agd_logistic, label=\"Accelerated GD\")      # Accelerated Gradient Descent\n",
    "plt.title(\"Accelerated logistic loss\")\n",
    "plt.xlabel(\"Iteration\")\n",
    "plt.ylabel(\"Cost\")\n",
    "plt.show()"
   ]
  },
  {
   "cell_type": "markdown",
   "metadata": {},
   "source": []
  }
 ],
 "metadata": {
  "kernelspec": {
   "display_name": "py310",
   "language": "python",
   "name": "python3"
  },
  "language_info": {
   "codemirror_mode": {
    "name": "ipython",
    "version": 3
   },
   "file_extension": ".py",
   "mimetype": "text/x-python",
   "name": "python",
   "nbconvert_exporter": "python",
   "pygments_lexer": "ipython3",
   "version": "3.10.13"
  }
 },
 "nbformat": 4,
 "nbformat_minor": 2
}
