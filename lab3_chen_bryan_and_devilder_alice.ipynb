{
 "cells": [
  {
   "cell_type": "markdown",
   "metadata": {},
   "source": [
    "# Short Lab 3 : Proximal/cyclic/greedy coordinate descent\n",
    "\n",
    "#### Authors: A. Gramfort, H. Janati, M. Massias\n",
    "\n",
    "## Aim\n",
    "\n",
    "The aim of this material is to code \n",
    "- cyclic and greedy coordinate descent for ordinary least squares (OLS)\n",
    "- proximal coordinate descent for sparse Logistic regression\n",
    "\n",
    "## VERY IMPORTANT\n",
    "\n",
    "- This work **must be done by pairs of students**.\n",
    "- **Each** student must send their work **before the 22nd of november at noon**, using the **moodle platform**.\n",
    "- This means that **each student in the pair sends the same file**\n",
    "- The **name of the file must be** constructed as in the next cell\n",
    "\n",
    "# Gentle reminder: no evaluation if you don't respect this EXACTLY\n",
    "\n",
    "### How to construct the name of your file"
   ]
  },
  {
   "cell_type": "code",
   "execution_count": 1,
   "metadata": {},
   "outputs": [
    {
     "name": "stdout",
     "output_type": "stream",
     "text": [
      "lab3_chen_bryan_and_devilder_alice.ipynb\n"
     ]
    }
   ],
   "source": [
    "# Change here using YOUR first and last names\n",
    "fn1 = \"bryan\"\n",
    "ln1 = \"chen\"\n",
    "fn2 = \"alice\"\n",
    "ln2 = \"devilder\"\n",
    "\n",
    "filename = \"_\".join(map(lambda s: s.strip().lower(), \n",
    "                        [\"lab3\", ln1, fn1, \"and\", ln2, fn2])) + \".ipynb\"\n",
    "print(filename)"
   ]
  },
  {
   "cell_type": "code",
   "execution_count": 2,
   "metadata": {},
   "outputs": [],
   "source": [
    "import numpy as np\n",
    "from numpy.linalg import norm\n",
    "import matplotlib.pyplot as plt"
   ]
  },
  {
   "cell_type": "code",
   "execution_count": 9,
   "metadata": {},
   "outputs": [
    {
     "name": "stderr",
     "output_type": "stream",
     "text": [
      "C:\\Users\\alice\\AppData\\Local\\Temp\\ipykernel_26592\\428856815.py:4: DeprecationWarning: Please use `toeplitz` from the `scipy.linalg` namespace, the `scipy.linalg.special_matrices` namespace is deprecated.\n",
      "  from scipy.linalg.special_matrices import toeplitz\n"
     ]
    }
   ],
   "source": [
    "# the usual functions:\n",
    "\n",
    "from numpy.random import multivariate_normal\n",
    "from scipy.linalg.special_matrices import toeplitz\n",
    "from numpy.random import randn\n",
    "\n",
    "\n",
    "def simu(coefs, n_samples=1000, corr=0.5, for_logreg=False):\n",
    "    n_features = len(coefs)\n",
    "    cov = toeplitz(corr ** np.arange(0, n_features))\n",
    "    A = multivariate_normal(np.zeros(n_features), cov, size=n_samples)\n",
    "    b = A.dot(coefs) + randn(n_samples)\n",
    "    if for_logreg:\n",
    "        b = np.sign(b)\n",
    "    return A, b"
   ]
  },
  {
   "cell_type": "markdown",
   "metadata": {},
   "source": [
    "## Part 1: Ordinary Least Squares\n",
    "\n",
    "\n",
    "Let $A \\in \\mathbb{R}^{n \\times p}$, $y \\in \\mathbb{R}^n$.\n",
    "We want to use coordinate descent to solve:\n",
    "    $$\\hat w \\in  \\mathrm{arg \\, min \\,} \\frac 12 \\Vert Aw - b \\Vert ^2 $$\n",
    "\n",
    "\n",
    "<div class=\"alert alert-success\">\n",
    "    <b>QUESTION 1:</b> We ask you to code\n",
    "     <ul>\n",
    "         <li>cyclic coordinate descent: at iteration $t$, update feature $j = t \\mod p$</li>\n",
    "         <li>greedy coordinate descent: at iteration $t$, update feature having the largest partial gradient in magnitude, ie $j = \\mathrm{arg\\, max \\,}_{i} \\vert \\nabla_i f(w_t) \\vert$.\n",
    "</li>\n",
    "    </ul>\n",
    "</div>\n",
    "\n",
    "**WARNING**: You must do this in a clever way, ie such that $p$ updates cost the same as one update of GD."
   ]
  },
  {
   "cell_type": "code",
   "execution_count": 10,
   "metadata": {},
   "outputs": [],
   "source": [
    "n_features = 100\n",
    "np.random.seed(1970)\n",
    "coefs = np.random.randn(n_features)\n",
    "\n",
    "A, b = simu(coefs, n_samples=1000, for_logreg=False)"
   ]
  },
  {
   "cell_type": "code",
   "execution_count": 15,
   "metadata": {},
   "outputs": [],
   "source": [
    "def cyclic_cd(A, b, n_iter):\n",
    "    n_samples, n_features = A.shape\n",
    "    all_objs = []\n",
    "    \n",
    "    w = np.zeros(n_features)\n",
    "    residuals = b - A.dot(w)\n",
    "    \n",
    "    # TODO\n",
    "    lips_const = np.linalg.norm(A, axis=0) ** 2\n",
    "    # END TODO\n",
    "    \n",
    "    for t in range(n_iter):\n",
    "        j = t % n_features\n",
    "        # TODO\n",
    "        old_w_j = w[j]\n",
    "        w[j] += A[:, j].dot(residuals) / lips_const[j]\n",
    "        # update residuals:\n",
    "        residuals += A[:, j] * (w[j] - old_w_j)\n",
    "        # END TODO\n",
    "        \n",
    "        if t % n_features == 0:\n",
    "            all_objs.append((residuals ** 2).sum() / 2.)\n",
    "    return w, np.array(all_objs)\n",
    "\n",
    "\n",
    "\n",
    "def greedy_cd(A, b, n_iter):\n",
    "    n_samples, n_features = A.shape\n",
    "    all_objs = []\n",
    "    \n",
    "    w = np.zeros(n_features)\n",
    "    \n",
    "    gradient = A.T.dot(A.dot(w) - b)\n",
    "    gram = A.T.dot(A)  # you will need this to keep the gradient up to date\n",
    "    \n",
    "    # TODO\n",
    "    lips_const = np.linalg.norm(A, axis=0) ** 2\n",
    "    # END TODO \n",
    "    \n",
    "    for t in range(n_iter):\n",
    "        # TODO\n",
    "        # choose feature j to update: \n",
    "        j = np.argmax(np.abs(gradient))\n",
    "        old_w_j = w[j]\n",
    "        w[j] -= gradient[j] / lips_const[j]\n",
    "        # update gradient:\n",
    "        gradient += gram[:, j] * (w[j] - old_w_j)\n",
    "        # END TODO\n",
    "        \n",
    "        if t % n_features == 0:\n",
    "            all_objs.append(0.5 * np.linalg.norm(A.dot(w) - b) ** 2)\n",
    "    \n",
    "    return w, np.array(all_objs)"
   ]
  },
  {
   "cell_type": "markdown",
   "metadata": {},
   "source": [
    "<div class=\"alert alert-success\">\n",
    "    <b>QUESTION 2:</b>\n",
    "     <ul>\n",
    "         <li>Compute a precise minimum with your favorite solver</li>\n",
    "         <li>Compare the performance of cyclic and greedy CD as function of iterations.</li>\n",
    "         <li>From a practical point of view, could you use greedy CD for L2 regularized logistic regression? to solve OLS, but with 100,000 features? Explain your answers.</li>\n",
    "    </ul>\n",
    "</div>\n",
    "\n",
    "**Remark:** You will do the plots using the number of iterations on the x-axis and not time as your code is likely to be slow unless you use [numba](https://numba.pydata.org/)."
   ]
  },
  {
   "cell_type": "code",
   "execution_count": 26,
   "metadata": {},
   "outputs": [
    {
     "data": {
      "image/png": "[encoded data removed]",
      "text/plain": [
       "<Figure size 1500x500 with 1 Axes>"
      ]
     },
     "metadata": {},
     "output_type": "display_data"
    }
   ],
   "source": [
    "# compute precise minimum with your favorite solver\n",
    "\n",
    "from numpy.linalg import lstsq\n",
    "\n",
    "w_min, _, _, _ = lstsq(A, b, rcond=None)\n",
    "\n",
    "# print(w_min)\n",
    "\n",
    "n_iter = 3000\n",
    "w_cyclic, all_objs_cyclic = cyclic_cd(A, b, n_iter)\n",
    "w_greedy, all_objs_greedy = greedy_cd(A, b, n_iter)\n",
    "\n",
    "plt.figure(figsize=(15, 5))\n",
    "# plt.subplot(1, 2, 1)\n",
    "plt.plot(w_cyclic-w_min, label='cyclic CD')\n",
    "plt.plot(w_greedy-w_min, label='greedy CD')\n",
    "plt.yscale('log')\n",
    "plt.legend()\n",
    "\n",
    "# plt.subplot(1, 2, 2)\n",
    "# plt.stem(w_min, label='True weights')\n",
    "# plt.stem(w_cyclic, label='Estimated weights (cyclic CD)')\n",
    "# plt.stem(w_greedy, label='Estimated weights (greedy CD)')\n",
    "# plt.legend()\n",
    "\n",
    "plt.show()"
   ]
  },
  {
   "cell_type": "markdown",
   "metadata": {},
   "source": [
    "## Part 2: Sparse Logistic regression"
   ]
  },
  {
   "cell_type": "markdown",
   "metadata": {},
   "source": [
    "### An important result\n",
    "\n",
    "Remember: we are solving \n",
    "$$\\hat w \\in \\mathrm{arg \\, min} \\sum_{i=1}^{n} \\mathrm{log} ( 1 + e^{- y_i w^\\top x_i} )  + \\lambda \\Vert w \\Vert_1$$\n",
    "\n",
    "<div class=\"alert alert-success\">\n",
    "    <b>QUESTION 3:</b><br/>\n",
    "    Assuming uniqueness of the solution, show that: \n",
    "</div>\n",
    "\n",
    "$$\n",
    "\\lambda \\geq \\lambda_{max} \\Leftrightarrow \\hat w = 0\n",
    ", \\text{where }\\lambda_{max} := \\frac 12 \\Vert X^\\top y \\Vert_{\\infty}\n",
    "$$\n",
    "\n",
    "**HINT:** You will need the following beautiful result: for any $w =(w_1, \\dots, w_p) \\in \\mathbb{R}^p$, the subdifferential of the L1 norm at $w$ is:\n",
    "\n",
    "$$\n",
    "\\partial \\Vert \\cdot \\Vert_1 (w) = \\partial \\vert \\cdot \\vert (w_1)  \\times \\dots \\times \\partial \\vert \\cdot \\vert (w_p) \n",
    "$$\n",
    "\n",
    "where $\\times$ is the Cartesian product between sets,\n",
    "and \n",
    "$$ \n",
    "\\partial \\vert \\cdot \\vert (w_j) = \n",
    "\\begin{cases} &w_j / |w_j| &\\mathrm{if} \\quad w_j \\neq 0, \n",
    "         \\\\ & [-1, 1] &\\mathrm{otherwise.} \n",
    "\\end{cases}\n",
    "$$\n",
    "\n",
    "\n",
    "(it should now be easy to find $\\partial \\Vert \\cdot \\Vert_1 (\\mathbf{0}_p)$)"
   ]
  },
  {
   "cell_type": "code",
   "execution_count": null,
   "metadata": {},
   "outputs": [],
   "source": []
  },
  {
   "cell_type": "markdown",
   "metadata": {},
   "source": [
    "To show that $\\hat w = 0_p$ is the unique minimizer if and only if $\\lambda \\geq \\lambda_{\\max} := \\frac{1}{2}\\|X^\\top y\\|_\\infty$, we'll utilize subgradient optimality conditions for convex functions.\n",
    "\n",
    "**Step 1: Express the Objective Function**\n",
    "\n",
    "The optimization problem is:\n",
    "\n",
    "$$\n",
    "\\hat w \\in \\operatorname*{arg\\,min}_{w \\in \\mathbb{R}^p} \\left[ f(w) + \\lambda \\|w\\|_1 \\right],\n",
    "$$\n",
    "\n",
    "where:\n",
    "\n",
    "$$\n",
    "f(w) = \\sum_{i=1}^{n} \\log\\left(1 + e^{-y_i w^\\top x_i}\\right).\n",
    "$$\n",
    "\n",
    "**Step 2: Compute the Gradient of $f(w)$ at $w = 0_p$**\n",
    "\n",
    "The gradient of $f(w)$ with respect to $w$ is:\n",
    "\n",
    "$$\n",
    "\\nabla f(w) = -\\sum_{i=1}^{n} y_i x_i \\frac{e^{-y_i w^\\top x_i}}{1 + e^{-y_i w^\\top x_i}} = -\\sum_{i=1}^{n} y_i x_i \\sigma(-y_i w^\\top x_i),\n",
    "$$\n",
    "\n",
    "where $\\sigma(z) = \\frac{1}{1 + e^{-z}}$ is the sigmoid function.\n",
    "\n",
    "At $w = 0_p$:\n",
    "\n",
    "$$\n",
    "\\nabla f(0_p) = -\\sum_{i=1}^{n} y_i x_i \\left( \\frac{1}{2} \\right) = -\\frac{1}{2} X^\\top y.\n",
    "$$\n",
    "\n",
    "**Step 3: Write the Subgradient Optimality Condition**\n",
    "\n",
    "The subdifferential of the $L_1$-norm at $w = 0_p$ is:\n",
    "\n",
    "$$\n",
    "\\partial \\|w\\|_1 \\Big|_{w=0_p} = [-1, 1]^p.\n",
    "$$\n",
    "\n",
    "The subgradient optimality condition is:\n",
    "\n",
    "$$\n",
    "0 \\in \\nabla f(0_p) + \\lambda \\partial \\|w\\|_1 \\Big|_{w=0_p}.\n",
    "$$\n",
    "\n",
    "Plugging in the values:\n",
    "\n",
    "$$\n",
    "0 \\in -\\frac{1}{2} X^\\top y + \\lambda s, \\quad \\text{where } s \\in [-1, 1]^p.\n",
    "$$\n",
    "\n",
    "**Step 4: Derive the Condition for $\\hat w = 0_p$ Being Optimal**\n",
    "\n",
    "Rewriting the optimality condition:\n",
    "\n",
    "$$\n",
    "\\frac{1}{2} X^\\top y \\in \\lambda s, \\quad s \\in [-1, 1]^p.\n",
    "$$\n",
    "\n",
    "This implies:\n",
    "\n",
    "$$\n",
    "\\left| \\frac{1}{2} X^\\top y \\right| \\leq \\lambda,\n",
    "$$\n",
    "\n",
    "where the absolute value is taken component-wise. Therefore:\n",
    "\n",
    "$$\n",
    "\\lambda \\geq \\frac{1}{2} \\|X^\\top y\\|_\\infty = \\lambda_{\\max}.\n",
    "$$\n",
    "\n",
    "**Conclusion**\n",
    "\n",
    "- If $\\lambda \\geq \\lambda_{\\max}$, then $\\hat w = 0_p$ satisfies the optimality condition and is the unique minimizer.\n",
    "- Conversely, if $\\hat w = 0_p$ is the unique minimizer, the optimality condition must hold, implying $\\lambda \\geq \\lambda_{\\max}$.\n",
    "\n",
    "**Therefore:**\n",
    "\n",
    "$$\n",
    "\\lambda \\geq \\lambda_{\\max} \\quad \\Leftrightarrow \\quad \\hat w = 0_p.\n",
    "$$\n",
    "\n",
    "---\n",
    "\n",
    "**Answer:**\n",
    "\n",
    "**Solution:**\n",
    "\n",
    "We use subgradient optimality conditions for convex functions.\n",
    "\n",
    "1. Compute the gradient of the loss at $w = 0$:\n",
    "\n",
    "$$\n",
    "\\nabla f(0) = -\\tfrac{1}{2} X^\\top y.\n",
    "$$\n",
    "\n",
    "2. At $w = 0$, the subdifferential of the $L_1$ norm is $\\partial\\|w\\|_1|_{w=0} = [-1,1]^p$.\n",
    "\n",
    "3. Optimality requires:\n",
    "\n",
    "$$\n",
    "0 \\in -\\tfrac{1}{2} X^\\top y + \\lambda\\, \\partial\\|w\\|_1|_{w=0}.\n",
    "$$\n",
    "\n",
    "4. This holds if and only if $\\lambda \\geq \\tfrac{1}{2}\\|X^\\top y\\|_\\infty = \\lambda_{\\max}$.\n",
    "\n",
    "Thus, $\\lambda \\geq \\lambda_{\\max} \\iff \\hat{w} = 0\\`.\n"
   ]
  },
  {
   "cell_type": "markdown",
   "metadata": {},
   "source": [
    "<div class=\"alert alert-success\">\n",
    "    <b>QUESTION 4:</b><br/>\n",
    "    Show that for sparse Logistic regression the coordinate-wise Lipschitz constant of the smooth term, $\\gamma_j$, can be taken equal to $\\Vert X_j \\Vert^2 / 4$, where $X_j$ denotes the $j$-th column of $X$.\n",
    "</div>"
   ]
  },
  {
   "cell_type": "markdown",
   "metadata": {},
   "source": [
    "*answer here*"
   ]
  },
  {
   "cell_type": "markdown",
   "metadata": {},
   "source": [
    "<div class=\"alert alert-success\">\n",
    "    <b>QUESTION 5:</b><br/>\n",
    "    Code cyclic proximal coordinate descent for sparse Logistic regression:\n",
    "</div>\n",
    "\n",
    "**WARNING**: the Lasso means linear regression (quadratic fitting term) with L1 penalty. Sparse logistic regression means logistic regression with L1 penalty."
   ]
  },
  {
   "cell_type": "code",
   "execution_count": 6,
   "metadata": {},
   "outputs": [],
   "source": [
    "X, y = simu(coefs, n_samples=1000, for_logreg=True)\n",
    "lambda_max = norm(X.T.dot(y), ord= np.inf) / 2.\n",
    "lamb = lambda_max / 20.  \n",
    "# much easier to parametrize lambda as a function of lambda_max than \n",
    "# to take random values like 0.1 in previous Labs\n",
    "\n",
    "\n",
    "def sigmoid(t):\n",
    "    \"\"\"Sigmoid function\"\"\"\n",
    "    return 1. / (1. + np.exp(-t))\n",
    "\n",
    "\n",
    "def soft_thresh(x, u):\n",
    "    \"\"\"Soft thresholding of x at level u\"\"\"\n",
    "    return np.sign(x) * np.maximum(0., np.abs(x) - u)\n",
    "\n",
    "\n",
    "def cd_logreg(X, y, lamb, n_iter):\n",
    "    n_samples, n_features = X.shape\n",
    "    w = np.zeros(n_features)\n",
    "    Xw = X.dot(w)\n",
    "    \n",
    "    # TODO\n",
    "    # lips_const = \n",
    "    # END TODO\n",
    "    \n",
    "    for t in range(n_iter):\n",
    "        for j in range(n_features):\n",
    "            old_w_j = w[j]\n",
    "            # TODO\n",
    "            # grad_j = \n",
    "            # w[j] = soft_thresh(1, 2)\n",
    "            \n",
    "            # if old_w_j != w[j]:\n",
    "                # Xw += \n",
    "            #END TODO\n",
    "            \n",
    "        all_objs[t] = np.log(1. + np.exp(-y * Xw)).sum() + lamb * norm(w, ord=1)\n",
    "    \n",
    "    return w, all_objs"
   ]
  },
  {
   "cell_type": "markdown",
   "metadata": {},
   "source": [
    "# Part 3: Real data\n",
    "\n",
    "We will compare vanilla cyclic CD and ISTA to solve the Lasso on a real dataset, called _leukemia_."
   ]
  },
  {
   "cell_type": "code",
   "execution_count": 7,
   "metadata": {},
   "outputs": [
    {
     "name": "stderr",
     "output_type": "stream",
     "text": [
      "c:\\Users\\alice\\AppData\\Local\\Programs\\Python\\Python310\\lib\\site-packages\\sklearn\\datasets\\_openml.py:311: UserWarning: Multiple active versions of the dataset matching the name leukemia exist. Versions may be fundamentally different, returning version 1.\n",
      "  warn(\n",
      "c:\\Users\\alice\\AppData\\Local\\Programs\\Python\\Python310\\lib\\site-packages\\sklearn\\datasets\\_openml.py:1022: FutureWarning: The default value of `parser` will change from `'liac-arff'` to `'auto'` in 1.4. You can set `parser='auto'` to silence this warning. Therefore, an `ImportError` will be raised from 1.4 if the dataset is dense and pandas is not installed. Note that the pandas parser may return different data types. See the Notes Section in fetch_openml's API doc for details.\n",
      "  warn(\n"
     ]
    }
   ],
   "source": [
    "from sklearn.datasets import fetch_openml\n",
    "\n",
    "leuk = fetch_openml(\"leukemia\")\n",
    "\n",
    "X = np.asfortranarray(leuk.data)\n",
    "y = np.ones(leuk.target.shape)\n",
    "y[leuk.target == leuk.target[0]] = -1."
   ]
  },
  {
   "cell_type": "code",
   "execution_count": 8,
   "metadata": {},
   "outputs": [
    {
     "name": "stdout",
     "output_type": "stream",
     "text": [
      "(72, 7129)\n"
     ]
    }
   ],
   "source": [
    "print(X.shape)\n",
    "\n",
    "lambda_max_lasso = norm(X.T.dot(y), ord=np.inf)\n",
    "lambd = lambda_max_lasso / 5."
   ]
  },
  {
   "cell_type": "markdown",
   "metadata": {},
   "source": [
    "<div class=\"alert alert-success\">\n",
    "    <b>QUESTION 6:</b> Code\n",
    "    <ul>\n",
    "        <li>a simple proximal gradient solver for the Lasso</li>\n",
    "        <li>a prox CD solver for the Lasso and compare them on this dataset.</li>\n",
    "    </ul>\n",
    "</div>\n",
    "\n",
    "**Remark:** Do the plots in terms of epochs, not updates (to be fair to CD)."
   ]
  },
  {
   "cell_type": "code",
   "execution_count": null,
   "metadata": {},
   "outputs": [],
   "source": []
  }
 ],
 "metadata": {
  "anaconda-cloud": {},
  "kernelspec": {
   "display_name": "Python 3",
   "language": "python",
   "name": "python3"
  },
  "language_info": {
   "codemirror_mode": {
    "name": "ipython",
    "version": 3
   },
   "file_extension": ".py",
   "mimetype": "text/x-python",
   "name": "python",
   "nbconvert_exporter": "python",
   "pygments_lexer": "ipython3",
   "version": "3.10.5"
  }
 },
 "nbformat": 4,
 "nbformat_minor": 2
}
