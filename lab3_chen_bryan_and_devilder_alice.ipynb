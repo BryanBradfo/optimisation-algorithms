{
 "cells": [
  {
   "cell_type": "markdown",
   "metadata": {},
   "source": [
    "# Short Lab 3 : Proximal/cyclic/greedy coordinate descent\n",
    "\n",
    "#### Authors: A. Gramfort, H. Janati, M. Massias\n",
    "\n",
    "## Aim\n",
    "\n",
    "The aim of this material is to code \n",
    "- cyclic and greedy coordinate descent for ordinary least squares (OLS)\n",
    "- proximal coordinate descent for sparse Logistic regression\n",
    "\n",
    "## VERY IMPORTANT\n",
    "\n",
    "- This work **must be done by pairs of students**.\n",
    "- **Each** student must send their work **before the 22nd of november at noon**, using the **moodle platform**.\n",
    "- This means that **each student in the pair sends the same file**\n",
    "- The **name of the file must be** constructed as in the next cell\n",
    "\n",
    "# Gentle reminder: no evaluation if you don't respect this EXACTLY\n",
    "\n",
    "### How to construct the name of your file"
   ]
  },
  {
   "cell_type": "code",
   "execution_count": 1,
   "metadata": {},
   "outputs": [
    {
     "name": "stdout",
     "output_type": "stream",
     "text": [
      "lab3_chen_bryan_and_devilder_alice.ipynb\n"
     ]
    }
   ],
   "source": [
    "# Change here using YOUR first and last names\n",
    "fn1 = \"bryan\"\n",
    "ln1 = \"chen\"\n",
    "fn2 = \"alice\"\n",
    "ln2 = \"devilder\"\n",
    "\n",
    "filename = \"_\".join(map(lambda s: s.strip().lower(), \n",
    "                        [\"lab3\", ln1, fn1, \"and\", ln2, fn2])) + \".ipynb\"\n",
    "print(filename)"
   ]
  },
  {
   "cell_type": "code",
   "execution_count": 2,
   "metadata": {},
   "outputs": [],
   "source": [
    "import numpy as np\n",
    "from numpy.linalg import norm\n",
    "import matplotlib.pyplot as plt\n",
    "\n",
    "import time"
   ]
  },
  {
   "cell_type": "code",
   "execution_count": 3,
   "metadata": {},
   "outputs": [
    {
     "name": "stderr",
     "output_type": "stream",
     "text": [
      "C:\\Users\\alice\\AppData\\Local\\Temp\\ipykernel_23848\\428856815.py:4: DeprecationWarning: Please use `toeplitz` from the `scipy.linalg` namespace, the `scipy.linalg.special_matrices` namespace is deprecated.\n",
      "  from scipy.linalg.special_matrices import toeplitz\n"
     ]
    }
   ],
   "source": [
    "# the usual functions:\n",
    "\n",
    "from numpy.random import multivariate_normal\n",
    "from scipy.linalg.special_matrices import toeplitz\n",
    "from numpy.random import randn\n",
    "\n",
    "\n",
    "def simu(coefs, n_samples=1000, corr=0.5, for_logreg=False):\n",
    "    n_features = len(coefs)\n",
    "    cov = toeplitz(corr ** np.arange(0, n_features))\n",
    "    A = multivariate_normal(np.zeros(n_features), cov, size=n_samples)\n",
    "    b = A.dot(coefs) + randn(n_samples)\n",
    "    if for_logreg:\n",
    "        b = np.sign(b)\n",
    "    return A, b"
   ]
  },
  {
   "cell_type": "markdown",
   "metadata": {},
   "source": [
    "## Part 1: Ordinary Least Squares\n",
    "\n",
    "\n",
    "Let $A \\in \\mathbb{R}^{n \\times p}$, $y \\in \\mathbb{R}^n$.\n",
    "We want to use coordinate descent to solve:\n",
    "    $$\\hat w \\in  \\mathrm{arg \\, min \\,} \\frac 12 \\Vert Aw - b \\Vert ^2 $$\n",
    "\n",
    "\n",
    "<div class=\"alert alert-success\">\n",
    "    <b>QUESTION 1:</b> We ask you to code\n",
    "     <ul>\n",
    "         <li>cyclic coordinate descent: at iteration $t$, update feature $j = t \\mod p$</li>\n",
    "         <li>greedy coordinate descent: at iteration $t$, update feature having the largest partial gradient in magnitude, ie $j = \\mathrm{arg\\, max \\,}_{i} \\vert \\nabla_i f(w_t) \\vert$.\n",
    "</li>\n",
    "    </ul>\n",
    "</div>\n",
    "\n",
    "**WARNING**: You must do this in a clever way, ie such that $p$ updates cost the same as one update of GD."
   ]
  },
  {
   "cell_type": "code",
   "execution_count": 4,
   "metadata": {},
   "outputs": [],
   "source": [
    "n_features = 100\n",
    "np.random.seed(1970)\n",
    "coefs = np.random.randn(n_features)\n",
    "\n",
    "A, b = simu(coefs, n_samples=1000, for_logreg=False)"
   ]
  },
  {
   "cell_type": "code",
   "execution_count": 5,
   "metadata": {},
   "outputs": [],
   "source": [
    "def cyclic_cd(A, b, n_iter):\n",
    "    n_samples, n_features = A.shape\n",
    "    all_objs = []\n",
    "    \n",
    "    w = np.zeros(n_features)\n",
    "    residuals = b - A.dot(w)\n",
    "    \n",
    "    # TODO\n",
    "    lips_const = np.linalg.norm(A, axis=0) ** 2\n",
    "    # END TODO\n",
    "    \n",
    "    for t in range(n_iter):\n",
    "        j = t % n_features\n",
    "        # TODO\n",
    "        old_w_j = w[j]\n",
    "        w[j] += A[:, j].dot(residuals) / lips_const[j]\n",
    "        # update residuals:\n",
    "        residuals += A[:, j] * (old_w_j - w[j])\n",
    "        # END TODO\n",
    "        \n",
    "        if t % n_features == 0:\n",
    "            all_objs.append((residuals ** 2).sum() / 2.)\n",
    "    return w, np.array(all_objs)\n",
    "\n",
    "\n",
    "\n",
    "def greedy_cd(A, b, n_iter):\n",
    "    n_samples, n_features = A.shape\n",
    "    all_objs = []\n",
    "    \n",
    "    w = np.zeros(n_features)\n",
    "    \n",
    "    gradient = A.T.dot(A.dot(w) - b)\n",
    "    gram = A.T.dot(A)  # you will need this to keep the gradient up to date\n",
    "    \n",
    "    # TODO\n",
    "    lips_const = np.linalg.norm(A, axis=0) ** 2\n",
    "    # END TODO \n",
    "    \n",
    "    for t in range(n_iter):\n",
    "        # TODO\n",
    "        # choose feature j to update: \n",
    "        j = np.argmax(np.abs(gradient))\n",
    "        old_w_j = w[j]\n",
    "        w[j] -= gradient[j] / lips_const[j]\n",
    "        # update gradient:\n",
    "        gradient += gram[:, j] * (w[j] - old_w_j)\n",
    "        # END TODO\n",
    "        \n",
    "        if t % n_features == 0:\n",
    "            all_objs.append(0.5 * np.linalg.norm(A.dot(w) - b) ** 2)\n",
    "    \n",
    "    return w, np.array(all_objs)"
   ]
  },
  {
   "cell_type": "markdown",
   "metadata": {},
   "source": [
    "<div class=\"alert alert-success\">\n",
    "    <b>QUESTION 2:</b>\n",
    "     <ul>\n",
    "         <li>Compute a precise minimum with your favorite solver</li>\n",
    "         <li>Compare the performance of cyclic and greedy CD as function of iterations.</li>\n",
    "         <li>From a practical point of view, could you use greedy CD for L2 regularized logistic regression? to solve OLS, but with 100,000 features? Explain your answers.</li>\n",
    "    </ul>\n",
    "</div>\n",
    "\n",
    "**Remark:** You will do the plots using the number of iterations on the x-axis and not time as your code is likely to be slow unless you use [numba](https://numba.pydata.org/)."
   ]
  },
  {
   "cell_type": "code",
   "execution_count": 6,
   "metadata": {},
   "outputs": [],
   "source": [
    "def loss_linreg(w):\n",
    "    \"\"\"Least-squares loss\"\"\"\n",
    "    return np.linalg.norm(A @ w - b, ord=2)**2/2\n",
    "\n",
    "def grad_linreg(w):\n",
    "    \"\"\"Leas-squares gradient\"\"\"\n",
    "    return A.T @ (A @ w - b)"
   ]
  },
  {
   "cell_type": "markdown",
   "metadata": {},
   "source": [
    "### 1. Compute a precise minimum with your favorite solver"
   ]
  },
  {
   "cell_type": "code",
   "execution_count": 7,
   "metadata": {},
   "outputs": [
    {
     "name": "stdout",
     "output_type": "stream",
     "text": [
      "Precise minimum with favorite solver (lstsq) = 466.3849765337658 \n",
      "\n",
      "Gradient norm at w_min = 5.133562688586661e-11\n"
     ]
    }
   ],
   "source": [
    "# compute precise minimum with your favorite solver\n",
    "\n",
    "from numpy.linalg import lstsq\n",
    "\n",
    "w_min, _, _, _ = lstsq(A, b, rcond=None)\n",
    "min_lstsq = loss_linreg(w_min)\n",
    "\n",
    "# print(w_min)\n",
    "print(f\"Precise minimum with favorite solver (lstsq) = {min_lstsq} \\n\")\n",
    "print(f\"Gradient norm at w_min = {norm(grad_linreg(w_min))}\")"
   ]
  },
  {
   "cell_type": "markdown",
   "metadata": {},
   "source": [
    "### 2. Compare the performance of cyclic and greedy CD as function of iterations"
   ]
  },
  {
   "cell_type": "code",
   "execution_count": 8,
   "metadata": {},
   "outputs": [
    {
     "name": "stdout",
     "output_type": "stream",
     "text": [
      "Duration of cyclic coordinate descent = 0.023 seconds \n",
      "\n",
      "Duration of greedy coordinate descent = 0.029 seconds \n",
      "\n",
      "Precise minimum with cyclic coordinate descent = 466.3849765339347 \n",
      "Gradient norm at w_cyclic = 0.00030884372297994647 \n",
      "\n",
      "Precise minimum with greedy coordinate descent = 466.384976533766\n",
      "Gradient norm at w_greedy = 1.0335130410048501e-05\n"
     ]
    }
   ],
   "source": [
    "n_iter = 3000\n",
    "\n",
    "start_time = time.time()\n",
    "w_cyclic, all_objs_cyclic = cyclic_cd(A, b, n_iter)\n",
    "print(f\"Duration of cyclic coordinate descent = {time.time() - start_time:.3f} seconds \\n\")\n",
    "start_time = time.time()\n",
    "w_greedy, all_objs_greedy = greedy_cd(A, b, n_iter)\n",
    "print(f\"Duration of greedy coordinate descent = {time.time() - start_time:.3f} seconds \\n\")\n",
    "\n",
    "print(f\"Precise minimum with cyclic coordinate descent = {loss_linreg(w_cyclic)} \")\n",
    "print(f\"Gradient norm at w_cyclic = {norm(grad_linreg(w_cyclic))} \\n\")\n",
    "print(f\"Precise minimum with greedy coordinate descent = {loss_linreg(w_greedy)}\")\n",
    "print(f\"Gradient norm at w_greedy = {norm(grad_linreg(w_greedy))}\")"
   ]
  },
  {
   "cell_type": "markdown",
   "metadata": {},
   "source": [
    "Small remark: We notice that the greedy coordinate descent gives a slightly better solution than the cyclic one because the gradient norm is smaller."
   ]
  },
  {
   "cell_type": "code",
   "execution_count": 9,
   "metadata": {},
   "outputs": [
    {
     "name": "stdout",
     "output_type": "stream",
     "text": [
      "466.3849765337658\n"
     ]
    }
   ],
   "source": [
    "print(min_lstsq)"
   ]
  },
  {
   "cell_type": "code",
   "execution_count": 10,
   "metadata": {},
   "outputs": [
    {
     "data": {
      "image/png": "[encoded data removed]",
      "text/plain": [
       "<Figure size 640x480 with 1 Axes>"
      ]
     },
     "metadata": {},
     "output_type": "display_data"
    }
   ],
   "source": [
    "list_opt_min = [min_lstsq for i in range(min(len(all_objs_greedy), 100))]\n",
    "\n",
    "plt.plot(all_objs_cyclic, label='Cyclic CD')\n",
    "plt.plot(all_objs_greedy, label='Greedy CD')\n",
    "plt.plot(list_opt_min, label='Optimal objective', alpha=0.4)\n",
    "plt.xlabel('Number of iterations')\n",
    "plt.ylabel('Objective')\n",
    "plt.title('Convergence plot for Cyclic and Greedy CD')\n",
    "plt.yscale('log')\n",
    "plt.legend()\n",
    "plt.show()"
   ]
  },
  {
   "cell_type": "markdown",
   "metadata": {},
   "source": [
    "**Comments:**\n",
    "\n",
    "We can observe that the Greedy Coordinate Descent converges faster than the Cyclic Coordinate Descent. This is due to the fact that the Greedy CD selects the coordinate that has the largest gradient in magnitude, which allows it to converge faster. The Greedy CD reaches the minimum in 5 iterations, while the Cyclic CD reaches it in 7 iterations."
   ]
  },
  {
   "cell_type": "markdown",
   "metadata": {},
   "source": [
    "### 3. From a practical point of view, could you use greedy CD for L2 regularized logistic regression? to solve OLS, but with 100,000 features? Explain your answers"
   ]
  },
  {
   "cell_type": "markdown",
   "metadata": {},
   "source": [
    "* **Greedy CD for L2-regularized logistic regression:**\n",
    "\n",
    "In L2-regularized logistic regression, the objective function is smooth but not separable across coordinates due to the logistic loss. Moreover, the logistic loss is non-convex, which makes the optimization problem more challenging. The gradient of the logistic loss depends on all data points, which makes the computation of the gradient expensive. Therefore, the greedy CD is not suitable for L2-regularized logistic regression. Each coordinate update requires computing gradients that depend on all data points, which can be computationally expensive. \n",
    "\n",
    "* **Greedy CD for OLS with 100,000 features:**\n",
    "\n",
    "Using CD for OLS with 100,000 features is not efficient. OLS has a quadratic loss function, and while coordinate descent can be applied, each coordinate update involves computing the residuals and updating them, which can be costly when the number of features is large. The benefit of CD diminishes in high-dimensional settings because the per-iteration cost and the total number of iterations (in terms of computational time) increase."
   ]
  },
  {
   "cell_type": "markdown",
   "metadata": {},
   "source": [
    "## Part 2: Sparse Logistic regression"
   ]
  },
  {
   "cell_type": "markdown",
   "metadata": {},
   "source": [
    "### An important result\n",
    "\n",
    "Remember: we are solving \n",
    "$$\\hat w \\in \\mathrm{arg \\, min} \\sum_{i=1}^{n} \\mathrm{log} ( 1 + e^{- y_i w^\\top x_i} )  + \\lambda \\Vert w \\Vert_1$$\n",
    "\n",
    "<div class=\"alert alert-success\">\n",
    "    <b>QUESTION 3:</b><br/>\n",
    "    Assuming uniqueness of the solution, show that: \n",
    "</div>\n",
    "\n",
    "$$\n",
    "\\lambda \\geq \\lambda_{max} \\Leftrightarrow \\hat w = 0\n",
    ", \\text{where }\\lambda_{max} := \\frac 12 \\Vert X^\\top y \\Vert_{\\infty}\n",
    "$$\n",
    "\n",
    "**HINT:** You will need the following beautiful result: for any $w =(w_1, \\dots, w_p) \\in \\mathbb{R}^p$, the subdifferential of the L1 norm at $w$ is:\n",
    "\n",
    "$$\n",
    "\\partial \\Vert \\cdot \\Vert_1 (w) = \\partial \\vert \\cdot \\vert (w_1)  \\times \\dots \\times \\partial \\vert \\cdot \\vert (w_p) \n",
    "$$\n",
    "\n",
    "where $\\times$ is the Cartesian product between sets,\n",
    "and \n",
    "$$ \n",
    "\\partial \\vert \\cdot \\vert (w_j) = \n",
    "\\begin{cases} &w_j / |w_j| &\\mathrm{if} \\quad w_j \\neq 0, \n",
    "         \\\\ & [-1, 1] &\\mathrm{otherwise.} \n",
    "\\end{cases}\n",
    "$$\n",
    "\n",
    "\n",
    "(it should now be easy to find $\\partial \\Vert \\cdot \\Vert_1 (\\mathbf{0}_p)$)"
   ]
  },
  {
   "cell_type": "code",
   "execution_count": null,
   "metadata": {},
   "outputs": [],
   "source": []
  },
  {
   "cell_type": "markdown",
   "metadata": {},
   "source": [
    "**Answer:**\n",
    "\n",
    "To show that $\\hat{w} = 0_p$ is the unique minimizer if and only if $\\lambda \\geq \\lambda_{\\max} := \\frac{1}{2}\\|X^\\top y\\|_\\infty$, we use subgradient optimality conditions for convex functions.\n",
    "\n",
    "Consider the optimization problem:\n",
    "\n",
    "$$\n",
    "\\hat{w} \\in \\operatorname*{arg\\,min}_{w \\in \\mathbb{R}^p} \\left[ f(w) + \\lambda \\|w\\|_1 \\right],\n",
    "$$\n",
    "\n",
    "where\n",
    "\n",
    "$$\n",
    "f(w) = \\sum_{i=1}^{n} \\log\\left(1 + e^{-y_i w^\\top x_i}\\right).\n",
    "$$\n",
    "\n",
    "The gradient of $f(w)$ with respect to $w$ is:\n",
    "\n",
    "$$\n",
    "\\nabla f(w) = -\\sum_{i=1}^{n} y_i x_i \\frac{e^{-y_i w^\\top x_i}}{1 + e^{-y_i w^\\top x_i}} = -\\sum_{i=1}^{n} y_i x_i \\sigma(-y_i w^\\top x_i),\n",
    "$$\n",
    "\n",
    "where $\\sigma(z) = \\frac{1}{1 + e^{-z}}$ is the sigmoid function.\n",
    "\n",
    "At $w = 0_p$, since $\\sigma(0) = \\frac{1}{2}$, we have:\n",
    "\n",
    "$$\n",
    "\\begin{align*}\n",
    "\\nabla f(0_p) &= -\\sum_{i=1}^{n} y_i x_i \\left( \\frac{1}{2} \\right) \\\\\n",
    "&= -\\frac{1}{2} X^\\top y.\n",
    "\\end{align*}\n",
    "$$\n",
    "\n",
    "The subdifferential of the $L_1$-norm at $w = 0_p$ is:\n",
    "\n",
    "$$\n",
    "\\partial \\|w\\|_1 \\big|_{w=0_p} = [-1, 1]^p.\n",
    "$$\n",
    "\n",
    "The necessary and sufficient condition for $w = 0_p$ to be a minimizer is:\n",
    "\n",
    "$$\n",
    "0 \\in \\nabla f(0_p) + \\lambda \\, \\partial \\|w\\|_1 \\big|_{w=0_p}.\n",
    "$$\n",
    "\n",
    "Substituting the computed gradient and subdifferential, we get:\n",
    "\n",
    "$$\n",
    "0 \\in -\\frac{1}{2} X^\\top y + \\lambda s, \\quad \\text{where } s \\in [-1, 1]^p.\n",
    "$$\n",
    "\n",
    "This implies:\n",
    "\n",
    "$$\n",
    "\\frac{1}{2} X^\\top y \\in \\lambda s, \\quad s \\in [-1, 1]^p.\n",
    "$$\n",
    "\n",
    "Therefore, for each component $j$:\n",
    "\n",
    "$$\n",
    "\\left| \\frac{1}{2} (X^\\top y)_j \\right| \\leq \\lambda.\n",
    "$$\n",
    "\n",
    "This leads to the condition:\n",
    "\n",
    "$$\n",
    "\\lambda \\geq \\frac{1}{2} \\| X^\\top y \\|_\\infty = \\lambda_{\\max}.\n",
    "$$\n",
    "\n",
    "Hence, if $\\lambda \\geq \\lambda_{\\max}$, then $w = 0_p$ satisfies the optimality condition and is the unique minimizer. Conversely, if $\\hat{w} = 0_p$ is the unique minimizer, the optimality condition must hold, implying $\\lambda \\geq \\lambda_{\\max}$.\n",
    "\n",
    "Therefore, we conclude that:\n",
    "\n",
    "$$\n",
    "\\lambda \\geq \\lambda_{\\max} \\quad \\Leftrightarrow \\quad \\hat{w} = 0_p.\n",
    "$$"
   ]
  },
  {
   "cell_type": "markdown",
   "metadata": {},
   "source": [
    "<div class=\"alert alert-success\">\n",
    "    <b>QUESTION 4:</b><br/>\n",
    "    Show that for sparse Logistic regression the coordinate-wise Lipschitz constant of the smooth term, $\\gamma_j$, can be taken equal to $\\Vert X_j \\Vert^2 / 4$, where $X_j$ denotes the $j$-th column of $X$.\n",
    "</div>"
   ]
  },
  {
   "cell_type": "markdown",
   "metadata": {},
   "source": [
    "**Answer:**\n",
    "\n",
    "To show that for sparse logistic regression, the coordinate-wise Lipschitz constant of the smooth term $\\gamma_j$ can be taken equal to $\\| X_j \\|^2 / 4$, where $X_j$ denotes the $j$-th column of $X$, we proceed as follows.\n",
    "\n",
    "The smooth part of the logistic regression objective function is:\n",
    "\n",
    "$$\n",
    "f(w) = \\sum_{i=1}^{n} \\log\\left(1 + e^{- y_i w^\\top x_i}\\right).\n",
    "$$\n",
    "\n",
    "We are interested in finding the Lipschitz constant $\\gamma_j$ for the gradient component $\\frac{\\partial f}{\\partial w_j}(w)$ with respect to $w_j$. Specifically, we need to find $\\gamma_j$ such that for all $w, w'$:\n",
    "\n",
    "$$\n",
    "\\left| \\frac{\\partial f}{\\partial w_j}(w) - \\frac{\\partial f}{\\partial w_j}(w') \\right| \\leq \\gamma_j \\left| w_j - w_j' \\right|.\n",
    "$$\n",
    "\n",
    "First, we compute the partial derivative of $f(w)$ with respect to $w_j$:\n",
    "\n",
    "$$\n",
    "\\frac{\\partial f}{\\partial w_j}(w) = \\sum_{i=1}^{n} -y_i x_{ij} \\sigma(- y_i w^\\top x_i),\n",
    "$$\n",
    "\n",
    "where $\\sigma(t) = \\frac{1}{1 + e^{-t}}$ is the sigmoid function, and $x_{ij}$ is the $j$-th element of the vector $x_i$.\n",
    "\n",
    "Next, we compute the second derivative with respect to $w_j$:\n",
    "\n",
    "$$\n",
    "\\frac{\\partial^2 f}{\\partial w_j^2}(w) = \\sum_{i=1}^{n} x_{ij}^2 \\sigma(- y_i w^\\top x_i) \\left(1 - \\sigma(- y_i w^\\top x_i)\\right).\n",
    "$$\n",
    "\n",
    "Note that for any real number $t$, the product $\\sigma(t)(1 - \\sigma(t))$ attains its maximum value of $\\frac{1}{4}$ when $t = 0$, and is always non-negative and less than or equal to $\\frac{1}{4}$:\n",
    "\n",
    "$$\n",
    "0 \\leq \\sigma(t)(1 - \\sigma(t)) \\leq \\frac{1}{4}.\n",
    "$$\n",
    "\n",
    "Therefore, we have:\n",
    "\n",
    "$$\n",
    "\\frac{\\partial^2 f}{\\partial w_j^2}(w) \\leq \\frac{1}{4} \\sum_{i=1}^{n} x_{ij}^2 = \\frac{1}{4} \\| X_j \\|^2,\n",
    "$$\n",
    "\n",
    "where $\\| X_j \\|^2 = \\sum_{i=1}^{n} x_{ij}^2$ is the squared Euclidean norm of the $j$-th column of $X$.\n",
    "\n",
    "Since the second derivative provides an upper bound on the rate of change of the gradient, the Lipschitz constant $\\gamma_j$ for the gradient component $\\frac{\\partial f}{\\partial w_j}(w)$ can be taken as $\\gamma_j = \\frac{1}{4} \\| X_j \\|^2$.\n",
    "\n",
    "**Answer:**\n",
    "\n",
    "For sparse logistic regression, the coordinate-wise Lipschitz constant of the smooth term $\\gamma_j$ can be taken equal to $\\| X_j \\|^2 / 4$, where $X_j$ denotes the $j$-th column of $X$.\n"
   ]
  },
  {
   "cell_type": "markdown",
   "metadata": {},
   "source": [
    "<div class=\"alert alert-success\">\n",
    "    <b>QUESTION 5:</b><br/>\n",
    "    Code cyclic proximal coordinate descent for sparse Logistic regression:\n",
    "</div>\n",
    "\n",
    "**WARNING**: the Lasso means linear regression (quadratic fitting term) with L1 penalty. Sparse logistic regression means logistic regression with L1 penalty."
   ]
  },
  {
   "cell_type": "code",
   "execution_count": 11,
   "metadata": {},
   "outputs": [],
   "source": [
    "def sigmoid(t):\n",
    "    \"\"\"Sigmoid function\"\"\"\n",
    "    return 1. / (1. + np.exp(-t))\n",
    "\n",
    "\n",
    "def soft_thresh(x, u):\n",
    "    \"\"\"Soft thresholding of x at level u\"\"\"\n",
    "    return np.sign(x) * np.maximum(0., np.abs(x) - u)"
   ]
  },
  {
   "cell_type": "code",
   "execution_count": 12,
   "metadata": {},
   "outputs": [],
   "source": [
    "X, y = simu(coefs, n_samples=1000, for_logreg=True)\n",
    "lambda_max = norm(X.T.dot(y), ord= np.inf) / 2.\n",
    "lamb = lambda_max / 20.  \n",
    "# much easier to parametrize lambda as a function of lambda_max than \n",
    "# to take random values like 0.1 in previous Labs\n",
    "\n",
    "\n",
    "def cd_logreg(X, y, lamb, n_iter):\n",
    "    n_samples, n_features = X.shape\n",
    "    w = np.zeros(n_features)\n",
    "    Xw = X.dot(w)\n",
    "    \n",
    "    # TODO\n",
    "    lips_const = np.linalg.norm(X, ord=2, axis=0) ** 2 / 4\n",
    "    # END TODO\n",
    "\n",
    "    all_objs = np.zeros(n_iter)\n",
    "\n",
    "    for t in range(n_iter):\n",
    "        for j in range(n_features):\n",
    "            old_w_j = w[j]\n",
    "            # TODO\n",
    "            grad_j = -sum(y * X[:, j] * sigmoid(-y * Xw))\n",
    "            w[j] = soft_thresh(w[j] - grad_j / lips_const[j], lamb / lips_const[j])\n",
    "            \n",
    "            if old_w_j != w[j]:\n",
    "                Xw += (w[j] - old_w_j) * X[:, j]\n",
    "            #END TODO\n",
    "            \n",
    "        all_objs[t] = np.log(1. + np.exp(-y * Xw)).sum() + lamb * norm(w, ord=1)\n",
    "    \n",
    "    return w, all_objs"
   ]
  },
  {
   "cell_type": "code",
   "execution_count": 13,
   "metadata": {},
   "outputs": [],
   "source": [
    "w , all_objs_lcsp = cd_logreg(X,y,lamb,n_iter=50)"
   ]
  },
  {
   "cell_type": "code",
   "execution_count": 14,
   "metadata": {},
   "outputs": [
    {
     "data": {
      "image/png": "[encoded data removed]",
      "text/plain": [
       "<Figure size 640x480 with 1 Axes>"
      ]
     },
     "metadata": {},
     "output_type": "display_data"
    }
   ],
   "source": [
    "plt.plot(all_objs_lcsp)\n",
    "plt.xlabel('Number of iterations')\n",
    "plt.ylabel('Objective')\n",
    "plt.title('Convergence plot for logistic regression')\n",
    "plt.grid()\n",
    "plt.show()"
   ]
  },
  {
   "cell_type": "markdown",
   "metadata": {},
   "source": [
    "**Comments:**\n",
    "\n",
    "We observe that the cyclic proximal coordinate descent converges in 15 iterations. The Lipschitz constant for each coordinate is computed as $\\gamma_j = \\| X_j \\|^2 / 4$. We used the proximal operator of the L1 norm, which is the soft-thresholding operator. The soft-thresholding operator is applied to each coordinate of the gradient of the smooth term of the objective function."
   ]
  },
  {
   "cell_type": "markdown",
   "metadata": {},
   "source": [
    "# Part 3: Real data\n",
    "\n",
    "We will compare vanilla cyclic CD and ISTA to solve the Lasso on a real dataset, called _leukemia_."
   ]
  },
  {
   "cell_type": "code",
   "execution_count": 15,
   "metadata": {},
   "outputs": [
    {
     "name": "stderr",
     "output_type": "stream",
     "text": [
      "c:\\Users\\alice\\AppData\\Local\\Programs\\Python\\Python310\\lib\\site-packages\\sklearn\\datasets\\_openml.py:311: UserWarning: Multiple active versions of the dataset matching the name leukemia exist. Versions may be fundamentally different, returning version 1.\n",
      "  warn(\n",
      "c:\\Users\\alice\\AppData\\Local\\Programs\\Python\\Python310\\lib\\site-packages\\sklearn\\datasets\\_openml.py:1022: FutureWarning: The default value of `parser` will change from `'liac-arff'` to `'auto'` in 1.4. You can set `parser='auto'` to silence this warning. Therefore, an `ImportError` will be raised from 1.4 if the dataset is dense and pandas is not installed. Note that the pandas parser may return different data types. See the Notes Section in fetch_openml's API doc for details.\n",
      "  warn(\n"
     ]
    }
   ],
   "source": [
    "from sklearn.datasets import fetch_openml\n",
    "\n",
    "leuk = fetch_openml(\"leukemia\")\n",
    "\n",
    "X = np.asfortranarray(leuk.data)\n",
    "y = np.ones(leuk.target.shape)\n",
    "y[leuk.target == leuk.target[0]] = -1."
   ]
  },
  {
   "cell_type": "code",
   "execution_count": 16,
   "metadata": {},
   "outputs": [
    {
     "name": "stdout",
     "output_type": "stream",
     "text": [
      "(72, 7129)\n"
     ]
    }
   ],
   "source": [
    "print(X.shape)\n",
    "\n",
    "lambda_max_lasso = norm(X.T.dot(y), ord=np.inf)\n",
    "lambd = lambda_max_lasso / 5."
   ]
  },
  {
   "cell_type": "code",
   "execution_count": 17,
   "metadata": {},
   "outputs": [],
   "source": [
    "n_features = X.shape[1]"
   ]
  },
  {
   "cell_type": "code",
   "execution_count": 18,
   "metadata": {},
   "outputs": [],
   "source": [
    "w_true = np.linalg.lstsq(X, y, rcond=None)[0]"
   ]
  },
  {
   "cell_type": "markdown",
   "metadata": {},
   "source": [
    "<div class=\"alert alert-success\">\n",
    "    <b>QUESTION 6:</b> Code\n",
    "    <ul>\n",
    "        <li>a simple proximal gradient solver for the Lasso</li>\n",
    "        <li>a prox CD solver for the Lasso and compare them on this dataset.</li>\n",
    "    </ul>\n",
    "</div>\n",
    "\n",
    "**Remark:** Do the plots in terms of epochs, not updates (to be fair to CD)."
   ]
  },
  {
   "cell_type": "code",
   "execution_count": 19,
   "metadata": {},
   "outputs": [],
   "source": [
    "def PGD_lasso(w0, lmbd=0., n_iter=50,\n",
    "         w_true=w_min, verbose=True):\n",
    "    \"\"\"Proximal gradient descent algorithm\n",
    "    \"\"\"\n",
    "    w = w0.copy()\n",
    "    w_new = w0.copy()\n",
    "    # n_samples and n_features are not used (they could be parameters for the grad_f function) in the function because they are global variables\n",
    "    n_samples, n_features = A.shape\n",
    "\n",
    "    # estimation error history\n",
    "    errors = []\n",
    "    # objective history\n",
    "    objectives = []\n",
    "    # Current estimation error\n",
    "    err = norm(w - w_true) / norm(w_true)\n",
    "    errors.append(err)\n",
    "    # Current objective\n",
    "    obj = loss_linreg(w) + lamb * norm(w, ord=1)\n",
    "    objectives.append(obj)\n",
    "    # Lipschitz constant of the gradient of f\n",
    "    lips_const = np.linalg.norm(X, ord=2, axis=0) ** 2\n",
    "\n",
    "    if verbose:\n",
    "        print(\"Lauching PGDsolver...\")\n",
    "        print(' | '.join([name.center(8) for name in [\"it\", \"obj\", \"err\"]]))\n",
    "    for k in range(n_iter + 1):\n",
    "        \n",
    "        w_new = w - grad_linreg(w)/lips_const\n",
    "        w = soft_thresh(w_new, lmbd/lips_const)\n",
    "\n",
    "        obj = loss_linreg(w) + lamb * norm(w, ord=1)\n",
    "        err = norm(w - w_true) / norm(w_true)\n",
    "        errors.append(err)\n",
    "        objectives.append(obj)\n",
    "        if k % 10 == 0 and verbose:\n",
    "            print(' | '.join([(\"%d\" % k).rjust(8), \n",
    "                              (\"%.2e\" % obj).rjust(8), \n",
    "                              (\"%.2e\" % err).rjust(8)]))\n",
    "    return w, objectives, errors\n"
   ]
  },
  {
   "cell_type": "code",
   "execution_count": 20,
   "metadata": {},
   "outputs": [],
   "source": [
    "def cd_linreg(X, y, lamb, n_iter):\n",
    "    \"\"\"Proximal CD for Lasso (linear regression with L1 penalization)\"\"\"\n",
    "    n_samples, n_features = X.shape\n",
    "    w = np.zeros(n_features)\n",
    "    Xw = X.dot(w)\n",
    "    \n",
    "    # TODO\n",
    "    lips_const = np.linalg.norm(X, ord=2, axis=0) ** 2\n",
    "    # END TODO\n",
    "    \n",
    "    all_objs = np.zeros(n_iter)\n",
    "\n",
    "    for t in range(n_iter):\n",
    "        for j in range(n_features):\n",
    "            old_w_j = w[j]\n",
    "            # TODO\n",
    "            grad_j = X[:, j].dot(Xw - y) \n",
    "            w[j] = soft_thresh(w[j] - grad_j / lips_const[j], lamb / lips_const[j])\n",
    "            \n",
    "            if old_w_j != w[j]:\n",
    "                Xw += (w[j] - old_w_j) * X[:, j]\n",
    "            # END TODO\n",
    "            \n",
    "        all_objs[t] = 0.5 * np.linalg.norm(y - Xw) ** 2 + lamb * norm(w, ord=1)\n",
    "    \n",
    "    return w, all_objs"
   ]
  },
  {
   "cell_type": "code",
   "execution_count": 21,
   "metadata": {},
   "outputs": [
    {
     "ename": "ValueError",
     "evalue": "operands could not be broadcast together with shapes (7129,) (100,) ",
     "output_type": "error",
     "traceback": [
      "\u001b[1;31m---------------------------------------------------------------------------\u001b[0m",
      "\u001b[1;31mValueError\u001b[0m                                Traceback (most recent call last)",
      "Cell \u001b[1;32mIn[21], line 1\u001b[0m\n\u001b[1;32m----> 1\u001b[0m w_pgd, obj_pgd, err_pgd \u001b[38;5;241m=\u001b[39m \u001b[43mPGD_lasso\u001b[49m\u001b[43m(\u001b[49m\u001b[43mnp\u001b[49m\u001b[38;5;241;43m.\u001b[39;49m\u001b[43mzeros\u001b[49m\u001b[43m(\u001b[49m\u001b[43mn_features\u001b[49m\u001b[43m)\u001b[49m\u001b[43m,\u001b[49m\u001b[43m \u001b[49m\u001b[43mlmbd\u001b[49m\u001b[38;5;241;43m=\u001b[39;49m\u001b[43mlambd\u001b[49m\u001b[43m,\u001b[49m\u001b[43m \u001b[49m\u001b[43mn_iter\u001b[49m\u001b[38;5;241;43m=\u001b[39;49m\u001b[43mn_features\u001b[49m\u001b[43m,\u001b[49m\u001b[43m \u001b[49m\u001b[43mverbose\u001b[49m\u001b[38;5;241;43m=\u001b[39;49m\u001b[38;5;28;43;01mTrue\u001b[39;49;00m\u001b[43m)\u001b[49m\n\u001b[0;32m      3\u001b[0m w_cd, all_objs_cd \u001b[38;5;241m=\u001b[39m cd_linreg(X, y, lambd, n_iter\u001b[38;5;241m=\u001b[39mn_features)\n",
      "Cell \u001b[1;32mIn[19], line 15\u001b[0m, in \u001b[0;36mPGD_lasso\u001b[1;34m(w0, lmbd, n_iter, w_true, verbose)\u001b[0m\n\u001b[0;32m     13\u001b[0m objectives \u001b[38;5;241m=\u001b[39m []\n\u001b[0;32m     14\u001b[0m \u001b[38;5;66;03m# Current estimation error\u001b[39;00m\n\u001b[1;32m---> 15\u001b[0m err \u001b[38;5;241m=\u001b[39m norm(\u001b[43mw\u001b[49m\u001b[43m \u001b[49m\u001b[38;5;241;43m-\u001b[39;49m\u001b[43m \u001b[49m\u001b[43mw_true\u001b[49m) \u001b[38;5;241m/\u001b[39m norm(w_true)\n\u001b[0;32m     16\u001b[0m errors\u001b[38;5;241m.\u001b[39mappend(err)\n\u001b[0;32m     17\u001b[0m \u001b[38;5;66;03m# Current objective\u001b[39;00m\n",
      "\u001b[1;31mValueError\u001b[0m: operands could not be broadcast together with shapes (7129,) (100,) "
     ]
    }
   ],
   "source": [
    "w_pgd, obj_pgd, err_pgd = PGD_lasso(np.zeros(n_features), lmbd=lambd, n_iter=n_features, verbose=True)\n",
    "\n",
    "w_cd, all_objs_cd = cd_linreg(X, y, lambd, n_iter=n_features)"
   ]
  },
  {
   "cell_type": "code",
   "execution_count": null,
   "metadata": {},
   "outputs": [
    {
     "ename": "NameError",
     "evalue": "name 'all_objs_cd' is not defined",
     "output_type": "error",
     "traceback": [
      "\u001b[1;31m---------------------------------------------------------------------------\u001b[0m",
      "\u001b[1;31mNameError\u001b[0m                                 Traceback (most recent call last)",
      "Cell \u001b[1;32mIn[39], line 1\u001b[0m\n\u001b[1;32m----> 1\u001b[0m plt\u001b[38;5;241m.\u001b[39msemilogx(\u001b[43mall_objs_cd\u001b[49m, label\u001b[38;5;241m=\u001b[39m\u001b[38;5;124m'\u001b[39m\u001b[38;5;124mCD\u001b[39m\u001b[38;5;124m'\u001b[39m)\n\u001b[0;32m      2\u001b[0m plt\u001b[38;5;241m.\u001b[39msemilogx(obj_pgd, label\u001b[38;5;241m=\u001b[39m\u001b[38;5;124m'\u001b[39m\u001b[38;5;124mPGD\u001b[39m\u001b[38;5;124m'\u001b[39m)\n\u001b[0;32m      3\u001b[0m plt\u001b[38;5;241m.\u001b[39mxlabel(\u001b[38;5;124m'\u001b[39m\u001b[38;5;124mNumber of epochs\u001b[39m\u001b[38;5;124m'\u001b[39m)\n",
      "\u001b[1;31mNameError\u001b[0m: name 'all_objs_cd' is not defined"
     ]
    }
   ],
   "source": [
    "plt.semilogx(all_objs_cd, label='CD')\n",
    "plt.semilogx(obj_pgd, label='PGD')\n",
    "plt.xlabel('Number of epochs')\n",
    "plt.ylabel('Objective')\n",
    "plt.title('Convergence plot for Lasso')\n",
    "plt.legend()\n",
    "plt.show()\n"
   ]
  },
  {
   "cell_type": "code",
   "execution_count": null,
   "metadata": {},
   "outputs": [],
   "source": []
  },
  {
   "cell_type": "code",
   "execution_count": null,
   "metadata": {},
   "outputs": [],
   "source": []
  }
 ],
 "metadata": {
  "anaconda-cloud": {},
  "kernelspec": {
   "display_name": "Python 3",
   "language": "python",
   "name": "python3"
  },
  "language_info": {
   "codemirror_mode": {
    "name": "ipython",
    "version": 3
   },
   "file_extension": ".py",
   "mimetype": "text/x-python",
   "name": "python",
   "nbconvert_exporter": "python",
   "pygments_lexer": "ipython3",
   "version": "3.10.5"
  }
 },
 "nbformat": 4,
 "nbformat_minor": 2
}
